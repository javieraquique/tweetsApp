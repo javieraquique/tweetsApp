{
 "cells": [
  {
   "cell_type": "code",
   "execution_count": 6,
   "metadata": {},
   "outputs": [],
   "source": [
    "import pandas as pd\n",
    "import requests\n",
    "import numpy as np\n",
    "import streamlit as st"
   ]
  },
  {
   "cell_type": "code",
   "execution_count": 7,
   "metadata": {},
   "outputs": [
    {
     "data": {
      "text/plain": [
       "DeltaGenerator(_root_container=0, _provided_cursor=None, _parent=None, _block_type=None, _form_data=None)"
      ]
     },
     "execution_count": 7,
     "metadata": {},
     "output_type": "execute_result"
    }
   ],
   "source": [
    "st.title('Uber pickups in NYC')"
   ]
  },
  {
   "cell_type": "code",
   "execution_count": 8,
   "metadata": {},
   "outputs": [],
   "source": [
    "query = input(\"Ingrese palabra a buscar en Twitter\")"
   ]
  },
  {
   "cell_type": "code",
   "execution_count": 9,
   "metadata": {},
   "outputs": [],
   "source": [
    "url = \"https://twitter154.p.rapidapi.com/search/search\"\n",
    "\n",
    "querystring = {\"query\":f\"#{query}\",\"section\":\"top\",\"start_date\":\"2022-01-01\"}\n",
    "\n",
    "headers = {\n",
    "\t\"X-RapidAPI-Key\": \"c6a5a891ecmsh03d9ec66402dd34p18a3c6jsnbe65087e49e4\",\n",
    "\t\"X-RapidAPI-Host\": \"twitter154.p.rapidapi.com\"\n",
    "}"
   ]
  },
  {
   "cell_type": "code",
   "execution_count": 10,
   "metadata": {},
   "outputs": [],
   "source": [
    "response = requests.request(\"GET\", url, headers=headers, params=querystring)"
   ]
  },
  {
   "cell_type": "code",
   "execution_count": 11,
   "metadata": {},
   "outputs": [],
   "source": [
    "res_dict = response.json()\n",
    "res_dict = res_dict['results']"
   ]
  },
  {
   "cell_type": "code",
   "execution_count": 12,
   "metadata": {},
   "outputs": [],
   "source": [
    "df = pd.DataFrame.from_dict(res_dict)"
   ]
  },
  {
   "cell_type": "code",
   "execution_count": 13,
   "metadata": {},
   "outputs": [
    {
     "name": "stdout",
     "output_type": "stream",
     "text": [
      "<class 'pandas.core.frame.DataFrame'>\n",
      "RangeIndex: 6 entries, 0 to 5\n",
      "Data columns (total 14 columns):\n",
      " #   Column            Non-Null Count  Dtype \n",
      "---  ------            --------------  ----- \n",
      " 0   tweet_id          6 non-null      object\n",
      " 1   creation_date     6 non-null      object\n",
      " 2   text              6 non-null      object\n",
      " 3   media_url         0 non-null      object\n",
      " 4   video_url         0 non-null      object\n",
      " 5   user              6 non-null      object\n",
      " 6   language          6 non-null      object\n",
      " 7   favorite_count    6 non-null      int64 \n",
      " 8   retweet_count     6 non-null      int64 \n",
      " 9   reply_count       6 non-null      int64 \n",
      " 10  quote_count       6 non-null      int64 \n",
      " 11  retweet           6 non-null      bool  \n",
      " 12  timestamp         6 non-null      int64 \n",
      " 13  video_view_count  0 non-null      object\n",
      "dtypes: bool(1), int64(5), object(8)\n",
      "memory usage: 758.0+ bytes\n"
     ]
    }
   ],
   "source": [
    "df.info()"
   ]
  },
  {
   "cell_type": "code",
   "execution_count": null,
   "metadata": {},
   "outputs": [],
   "source": []
  }
 ],
 "metadata": {
  "kernelspec": {
   "display_name": "Python 3.10.1 64-bit",
   "language": "python",
   "name": "python3"
  },
  "language_info": {
   "codemirror_mode": {
    "name": "ipython",
    "version": 3
   },
   "file_extension": ".py",
   "mimetype": "text/x-python",
   "name": "python",
   "nbconvert_exporter": "python",
   "pygments_lexer": "ipython3",
   "version": "3.10.1"
  },
  "orig_nbformat": 4,
  "vscode": {
   "interpreter": {
    "hash": "aee8b7b246df8f9039afb4144a1f6fd8d2ca17a180786b69acc140d282b71a49"
   }
  }
 },
 "nbformat": 4,
 "nbformat_minor": 2
}
