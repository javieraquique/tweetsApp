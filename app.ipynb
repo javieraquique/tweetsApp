{
 "cells": [
  {
   "cell_type": "code",
   "execution_count": 30,
   "metadata": {},
   "outputs": [],
   "source": [
    "import pandas as pd\n",
    "import requests\n",
    "import numpy as np\n",
    "import os\n",
    "import json\n",
    "from dotenv import load_dotenv"
   ]
  },
  {
   "cell_type": "code",
   "execution_count": 31,
   "metadata": {},
   "outputs": [],
   "source": [
    "load_dotenv()\n",
    "bearer_token = os.getenv(\"BEARER_TOKEN\")\n"
   ]
  },
  {
   "cell_type": "code",
   "execution_count": 33,
   "metadata": {},
   "outputs": [],
   "source": [
    "# print(bearer_token)"
   ]
  },
  {
   "cell_type": "code",
   "execution_count": 34,
   "metadata": {},
   "outputs": [],
   "source": [
    "search_url = \"https://api.twitter.com/2/tweets/search/recent\"\n"
   ]
  },
  {
   "cell_type": "code",
   "execution_count": 35,
   "metadata": {},
   "outputs": [],
   "source": [
    "query_params = {'query': '(from:twitterdev -is:retweet) OR #twitterdev','tweet.fields': 'author_id'}"
   ]
  },
  {
   "cell_type": "code",
   "execution_count": 36,
   "metadata": {},
   "outputs": [],
   "source": [
    "def bearer_oauth(r):\n",
    "    \"\"\"\n",
    "    Method required by bearer token authentication.\n",
    "    \"\"\"\n",
    "\n",
    "    r.headers[\"Authorization\"] = f\"Bearer {bearer_token}\"\n",
    "    r.headers[\"User-Agent\"] = \"v2RecentSearchPython\"\n",
    "    return r"
   ]
  },
  {
   "cell_type": "code",
   "execution_count": 37,
   "metadata": {},
   "outputs": [],
   "source": [
    "def connect_to_endpoint(url, params):\n",
    "    response = requests.get(url, auth=bearer_oauth, params=params)\n",
    "    print(response.status_code)\n",
    "    if response.status_code != 200:\n",
    "        raise Exception(response.status_code, response.text)\n",
    "    return response.json()"
   ]
  },
  {
   "cell_type": "code",
   "execution_count": 38,
   "metadata": {},
   "outputs": [],
   "source": [
    "def main():\n",
    "    json_response = connect_to_endpoint(search_url, query_params)\n",
    "    print(json.dumps(json_response, indent=4, sort_keys=True))"
   ]
  },
  {
   "cell_type": "code",
   "execution_count": 39,
   "metadata": {},
   "outputs": [
    {
     "name": "stdout",
     "output_type": "stream",
     "text": [
      "200\n",
      "{\n",
      "    \"data\": [\n",
      "        {\n",
      "            \"author_id\": \"2244994945\",\n",
      "            \"edit_history_tweet_ids\": [\n",
      "                \"1584620743018561537\"\n",
      "            ],\n",
      "            \"id\": \"1584620743018561537\",\n",
      "            \"text\": \"if motivation != empty:\\n     keep_coding\\nelse:\\n    order_coffee\"\n",
      "        },\n",
      "        {\n",
      "            \"author_id\": \"2244994945\",\n",
      "            \"edit_history_tweet_ids\": [\n",
      "                \"1584616779195654146\"\n",
      "            ],\n",
      "            \"id\": \"1584616779195654146\",\n",
      "            \"text\": \"\\ud83d\\udd25The opportunities Twitter data opens up for the gaming industry are unlimited \\n\\nWith data &amp; helpful tools, developers can build experiences on Twitter that support innovation &amp; visibility\\n\\nBuild what\\u2019s next for gamers across the globe \\ud83d\\udc47\"\n",
      "        },\n",
      "        {\n",
      "            \"author_id\": \"2244994945\",\n",
      "            \"edit_history_tweet_ids\": [\n",
      "                \"1584616778851753986\"\n",
      "            ],\n",
      "            \"id\": \"1584616778851753986\",\n",
      "            \"text\": \"Twitter is the go-to platform for gamers, developers, &amp; many others, to learn, discover, create, &amp; be inspired. \\u2728\\n\\n\\u2714\\ufe0f 91M unique gaming authors on Twitter\\n\\u2714\\ufe0f 58% of gamers on Twitter use it daily\\n...and more \\u2b07\\ufe0f\"\n",
      "        },\n",
      "        {\n",
      "            \"author_id\": \"2244994945\",\n",
      "            \"edit_history_tweet_ids\": [\n",
      "                \"1584616778742697984\"\n",
      "            ],\n",
      "            \"id\": \"1584616778742697984\",\n",
      "            \"text\": \"Twitter is the home of the gaming conversation \\u2013 with over 70 Tweets per second about gaming \\u2013 the value of the Twitter gaming community is undeniable. \\ud83d\\udc99\\ud83d\\ude80\\n\\nTap in and #BuildWhatsNext \\u2935\\ufe0f\"\n",
      "        },\n",
      "        {\n",
      "            \"author_id\": \"2244994945\",\n",
      "            \"edit_history_tweet_ids\": [\n",
      "                \"1584616778646188032\"\n",
      "            ],\n",
      "            \"id\": \"1584616778646188032\",\n",
      "            \"text\": \"\\ud83d\\udd25The opportunities Twitter data opens up for the gaming industry are unlimited \\n\\nWith data &amp; helpful tools, developers can build experiences on Twitter that support innovation &amp; visibility\\n\\nBuild what\\u2019s next for gamers across the globe \\ud83d\\udc47\"\n",
      "        },\n",
      "        {\n",
      "            \"author_id\": \"2244994945\",\n",
      "            \"edit_history_tweet_ids\": [\n",
      "                \"1584616778629492737\"\n",
      "            ],\n",
      "            \"id\": \"1584616778629492737\",\n",
      "            \"text\": \"Twitter is the home of the gaming conversation \\u2013 with over 70 Tweets per second about gaming \\u2013 the value of the Twitter gaming community is undeniable. \\ud83d\\udc99\\ud83d\\ude80\\n\\nTap in and #BuildWhatsNext \\u2935\\ufe0f\"\n",
      "        },\n",
      "        {\n",
      "            \"author_id\": \"2244994945\",\n",
      "            \"edit_history_tweet_ids\": [\n",
      "                \"1584616778612633600\"\n",
      "            ],\n",
      "            \"id\": \"1584616778612633600\",\n",
      "            \"text\": \"Twitter is the go-to platform for gamers, developers, &amp; many others, to learn, discover, create, &amp; be inspired. \\u2728\\n\\n\\u2714\\ufe0f 91M unique gaming authors on Twitter\\n\\u2714\\ufe0f 58% of gamers on Twitter use it daily\\n...and more \\u2b07\\ufe0f\"\n",
      "        },\n",
      "        {\n",
      "            \"author_id\": \"58919084\",\n",
      "            \"edit_history_tweet_ids\": [\n",
      "                \"1584346351877300224\"\n",
      "            ],\n",
      "            \"id\": \"1584346351877300224\",\n",
      "            \"text\": \"RT @_kato_shinya: #twitter_api_v2 is ready to take things to the next level. This library can be even more amazing :)\\n\\n#Programming #Dart #\\u2026\"\n",
      "        },\n",
      "        {\n",
      "            \"author_id\": \"1466908806969839618\",\n",
      "            \"edit_history_tweet_ids\": [\n",
      "                \"1584030982994530305\"\n",
      "            ],\n",
      "            \"id\": \"1584030982994530305\",\n",
      "            \"text\": \"\\ud835\\udc3c\\ud835\\udc53 \\ud835\\udc3a\\ud835\\udc5c\\ud835\\udc51 \\ud835\\udc56\\ud835\\udc60 \\ud835\\udc53\\ud835\\udc5c\\ud835\\udc5f \\ud835\\udc62\\ud835\\udc60, \\ud835\\udc64\\ud835\\udc89\\ud835\\udc5c \\ud835\\udc50\\ud835\\udc4e\\ud835\\udc5b \\ud835\\udc4f\\ud835\\udc52 \\ud835\\udc4e\\ud835\\udc54\\ud835\\udc4e\\ud835\\udc56\\ud835\\udc5b\\ud835\\udc60\\ud835\\udc61 \\ud835\\udc62\\ud835\\udc60?\\n\\n#TwitterSupport\\n#TwitterSafety\\n#TwitterDev\\n#TwitterAvi\"\n",
      "        },\n",
      "        {\n",
      "            \"author_id\": \"1480013531542032389\",\n",
      "            \"edit_history_tweet_ids\": [\n",
      "                \"1583955208337764352\"\n",
      "            ],\n",
      "            \"id\": \"1583955208337764352\",\n",
      "            \"text\": \"RT @_kato_shinya: #twitter_api_v2 is ready to take things to the next level. This library can be even more amazing :)\\n\\n#Programming #Dart #\\u2026\"\n",
      "        }\n",
      "    ],\n",
      "    \"meta\": {\n",
      "        \"newest_id\": \"1584620743018561537\",\n",
      "        \"next_token\": \"b26v89c19zqg8o3fpzekpqk0tiyjkc9dft0v329xeh4e5\",\n",
      "        \"oldest_id\": \"1583955208337764352\",\n",
      "        \"result_count\": 10\n",
      "    }\n",
      "}\n"
     ]
    }
   ],
   "source": [
    "if __name__ == \"__main__\":\n",
    "    main()"
   ]
  },
  {
   "cell_type": "code",
   "execution_count": null,
   "metadata": {},
   "outputs": [],
   "source": []
  }
 ],
 "metadata": {
  "kernelspec": {
   "display_name": "Python 3.10.1 64-bit",
   "language": "python",
   "name": "python3"
  },
  "language_info": {
   "codemirror_mode": {
    "name": "ipython",
    "version": 3
   },
   "file_extension": ".py",
   "mimetype": "text/x-python",
   "name": "python",
   "nbconvert_exporter": "python",
   "pygments_lexer": "ipython3",
   "version": "3.10.1"
  },
  "orig_nbformat": 4,
  "vscode": {
   "interpreter": {
    "hash": "aee8b7b246df8f9039afb4144a1f6fd8d2ca17a180786b69acc140d282b71a49"
   }
  }
 },
 "nbformat": 4,
 "nbformat_minor": 2
}
