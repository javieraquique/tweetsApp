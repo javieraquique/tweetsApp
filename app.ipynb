{
 "cells": [
  {
   "cell_type": "code",
   "execution_count": 1,
   "metadata": {},
   "outputs": [],
   "source": [
    "import pandas as pd\n",
    "import requests\n",
    "import numpy as np\n",
    "import os\n",
    "import json\n",
    "from dotenv import load_dotenv\n",
    "from dateutil import parser\n",
    "import datetime as dt\n"
   ]
  },
  {
   "cell_type": "code",
   "execution_count": 2,
   "metadata": {},
   "outputs": [],
   "source": [
    "load_dotenv()\n",
    "bearer_token = os.getenv(\"BEARER_TOKEN\")\n"
   ]
  },
  {
   "cell_type": "code",
   "execution_count": 3,
   "metadata": {},
   "outputs": [],
   "source": [
    "search_url = \"https://api.twitter.com/2/tweets/search/recent\"\n"
   ]
  },
  {
   "cell_type": "code",
   "execution_count": 4,
   "metadata": {},
   "outputs": [],
   "source": [
    "query_params = {\n",
    "    'query': 'lang=en',\n",
    "    'place.fields': 'contained_within,country,country_code,full_name,geo,id,name,place_type',\n",
    "    'tweet.fields': 'author_id,created_at,geo,id,lang,possibly_sensitive,source,text,withheld',\n",
    "    'user.fields': 'id,location,name,protected,username,verified,withheld',\n",
    "    'max_results': 100}\n",
    "# query_params = {'query': '(from:twitterdev -is:retweet) OR #twitterdev','tweet.fields': 'author_id'}"
   ]
  },
  {
   "cell_type": "code",
   "execution_count": 5,
   "metadata": {},
   "outputs": [],
   "source": [
    "def bearer_oauth(r):\n",
    "    \"\"\"\n",
    "    Method required by bearer token authentication.\n",
    "    \"\"\"\n",
    "\n",
    "    r.headers[\"Authorization\"] = f\"Bearer {bearer_token}\"\n",
    "    r.headers[\"User-Agent\"] = \"v2RecentSearchPython\"\n",
    "    return r"
   ]
  },
  {
   "cell_type": "code",
   "execution_count": 6,
   "metadata": {},
   "outputs": [],
   "source": [
    "def connect_to_endpoint(url, params):\n",
    "    response = requests.get(url, auth=bearer_oauth, params=params)\n",
    "    print(response.status_code)\n",
    "    if response.status_code != 200:\n",
    "        raise Exception(response.status_code, response.text)\n",
    "    return response.json()"
   ]
  },
  {
   "cell_type": "code",
   "execution_count": 48,
   "metadata": {},
   "outputs": [],
   "source": [
    "def main():\n",
    "    json_response = connect_to_endpoint(search_url, query_params)\n",
    "    df = pd.DataFrame.from_dict(json_response['data'])\n",
    "\n",
    "    df['time'] = pd.to_datetime(df['created_at'])\n",
    "    # ¿Qué palabra se repite más?\n",
    "\n",
    "    # Meter los textos en una lista\n",
    "    \n",
    "    single_text = []\n",
    "    list_of_text = df['text'].str.split()\n",
    "    for list in list_of_text:\n",
    "        for word in list:\n",
    "            single_text.append(word)\n",
    "\n",
    "    print(pd.Series(single_text).value_counts()[:10])\n",
    "    \n",
    "    "
   ]
  },
  {
   "cell_type": "code",
   "execution_count": 49,
   "metadata": {},
   "outputs": [
    {
     "name": "stdout",
     "output_type": "stream",
     "text": [
      "200\n",
      "RT                   37\n",
      "of                   18\n",
      "to                   15\n",
      "is                   14\n",
      "the                  11\n",
      "in                    9\n",
      "@weverseofficial:     9\n",
      "and                   9\n",
      "on                    9\n",
      "a                     8\n",
      "dtype: int64\n"
     ]
    }
   ],
   "source": [
    "if __name__ == \"__main__\":\n",
    "    main()"
   ]
  },
  {
   "cell_type": "code",
   "execution_count": null,
   "metadata": {},
   "outputs": [],
   "source": [
    "                                                                                "
   ]
  }
 ],
 "metadata": {
  "kernelspec": {
   "display_name": "Python 3.10.1 64-bit",
   "language": "python",
   "name": "python3"
  },
  "language_info": {
   "codemirror_mode": {
    "name": "ipython",
    "version": 3
   },
   "file_extension": ".py",
   "mimetype": "text/x-python",
   "name": "python",
   "nbconvert_exporter": "python",
   "pygments_lexer": "ipython3",
   "version": "3.10.1"
  },
  "orig_nbformat": 4,
  "vscode": {
   "interpreter": {
    "hash": "aee8b7b246df8f9039afb4144a1f6fd8d2ca17a180786b69acc140d282b71a49"
   }
  }
 },
 "nbformat": 4,
 "nbformat_minor": 2
}
